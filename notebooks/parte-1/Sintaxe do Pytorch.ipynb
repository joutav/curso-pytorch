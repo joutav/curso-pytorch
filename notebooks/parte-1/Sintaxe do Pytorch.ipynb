{
 "metadata": {
  "language_info": {
   "codemirror_mode": {
    "name": "ipython",
    "version": 3
   },
   "file_extension": ".py",
   "mimetype": "text/x-python",
   "name": "python",
   "nbconvert_exporter": "python",
   "pygments_lexer": "ipython3",
   "version": "3.8.7-final"
  },
  "orig_nbformat": 2,
  "kernelspec": {
   "name": "python3",
   "display_name": "Python 3.8.7 64-bit ('venv')",
   "metadata": {
    "interpreter": {
     "hash": "15ab2e7cb1012ba9cbf02156fa5f3e163f58cdb362476770d336dfa3da328700"
    }
   }
  }
 },
 "nbformat": 4,
 "nbformat_minor": 2,
 "cells": [
  {
   "cell_type": "code",
   "execution_count": 1,
   "metadata": {},
   "outputs": [
    {
     "output_type": "stream",
     "name": "stdout",
     "text": [
      "Package             Version\n------------------- -----------\n-ip                 20.2.3\nargon2-cffi         20.1.0\nasync-generator     1.10\nattrs               20.3.0\nbackcall            0.2.0\nbleach              3.2.1\ncffi                1.14.4\ncolorama            0.4.4\ndecorator           4.4.2\ndefusedxml          0.6.0\nentrypoints         0.3\nipykernel           5.4.3\nipython             7.19.0\nipython-genutils    0.2.0\nipywidgets          7.6.3\njedi                0.17.2\nJinja2              2.11.2\njsonschema          3.2.0\njupyter             1.0.0\njupyter-client      6.1.11\njupyter-console     6.2.0\njupyter-core        4.7.0\njupyterlab-pygments 0.1.2\njupyterlab-widgets  1.0.0\nMarkupSafe          1.1.1\nmistune             0.8.4\nnbclient            0.5.1\nnbconvert           6.0.7\nnbformat            5.1.2\nnest-asyncio        1.4.3\nnotebook            6.2.0\nnumpy               1.19.5\npackaging           20.8\npandocfilters       1.4.3\nparso               0.7.1\npickleshare         0.7.5\nPillow              8.1.0\npip                 20.3.3\nprometheus-client   0.9.0\nprompt-toolkit      3.0.10\npycparser           2.20\nPygments            2.7.4\npyparsing           2.4.7\npyrsistent          0.17.3\npython-dateutil     2.8.1\npywin32             300\npywinpty            0.5.7\npyzmq               21.0.1\nqtconsole           5.0.1\nQtPy                1.9.0\nSend2Trash          1.5.0\nsetuptools          49.2.1\nsix                 1.15.0\nterminado           0.9.2\ntestpath            0.4.4\ntorch               1.7.1+cu110\ntorchaudio          0.7.2\ntorchvision         0.8.2+cu110\ntornado             6.1\ntraitlets           5.0.5\ntyping-extensions   3.7.4.3\nwcwidth             0.2.5\nwebencodings        0.5.1\nwheel               0.36.2\nwidgetsnbextension  3.5.1\n"
     ]
    }
   ],
   "source": [
    "!pip list"
   ]
  },
  {
   "source": [
    "# Tensores\n",
    "Tensor é um termo utlizado em rede neural responsável por generalizar qualquer vetor idependentemente da sua dimensão."
   ],
   "cell_type": "markdown",
   "metadata": {}
  },
  {
   "source": [
    "## Tipos de tensores\n",
    "https://pytorch.org/docs/stable/tensors.html"
   ],
   "cell_type": "markdown",
   "metadata": {}
  },
  {
   "cell_type": "code",
   "execution_count": 10,
   "metadata": {},
   "outputs": [
    {
     "output_type": "stream",
     "name": "stdout",
     "text": [
      "torch.float32\ntensor([[1., 2., 3.],\n        [4., 5., 6.]]) \n\ntorch.float32\ntensor([[1., 2., 3.],\n        [4., 5., 6.]]) \n\ntorch.float64\ntensor([[1., 2., 3.],\n        [4., 5., 6.]], dtype=torch.float64) \n\ntorch.int64\ntensor([[1, 2, 3],\n        [4, 5, 6]]) \n\ntorch.float32\ntensor([[1., 2., 3.],\n        [4., 5., 6.]], device='cuda:0') \n\n"
     ]
    }
   ],
   "source": [
    "import torch\n",
    "\n",
    "lista = [[1,2,3],\n",
    "         [4,5,6]]\n",
    "\n",
    "# Padrão Float32\n",
    "tns = torch.Tensor(lista)\n",
    "print(tns.dtype)\n",
    "print(tns, '\\n')\n",
    "\n",
    "# Padrão Float32\n",
    "tns = torch.FloatTensor(lista)\n",
    "print(tns.dtype)\n",
    "print(tns, '\\n')\n",
    "\n",
    "# Tensor para maior precisão\n",
    "tns = torch.DoubleTensor(lista)\n",
    "print(tns.dtype)\n",
    "print(tns, '\\n')\n",
    "\n",
    "# Tensor de inteiros\n",
    "tns = torch.LongTensor(lista)\n",
    "print(tns.dtype)\n",
    "print(tns, '\\n')\n",
    "\n",
    "# Tensor cuda\n",
    "tns = torch.cuda.FloatTensor(lista)\n",
    "print(tns.dtype)\n",
    "print(tns, '\\n')\n"
   ]
  },
  {
   "source": [
    "## Conversão array numpy para tensores do pytorch"
   ],
   "cell_type": "markdown",
   "metadata": {}
  },
  {
   "cell_type": "code",
   "execution_count": 16,
   "metadata": {},
   "outputs": [
    {
     "output_type": "stream",
     "name": "stdout",
     "text": [
      "torch.float64\ntensor([[0.4506, 0.3994, 0.7787, 0.9867],\n        [0.5200, 0.0128, 0.3464, 0.0970],\n        [0.8330, 0.6075, 0.2118, 0.6758]], dtype=torch.float64)\ntorch.int32\ntensor([[0, 0, 0, 0],\n        [0, 0, 0, 0],\n        [0, 0, 0, 0]], dtype=torch.int32)\n"
     ]
    }
   ],
   "source": [
    "import numpy as np\n",
    "\n",
    "arr = np.random.rand(3,4)\n",
    "tns = torch.from_numpy(arr)\n",
    "print(tns.dtype)\n",
    "print(tns)\n",
    "\n",
    "# Torch preserva o tipo dos dados\n",
    "arr = arr.astype(int)\n",
    "tns = torch.from_numpy(arr)\n",
    "print(tns.dtype)\n",
    "print(tns)"
   ]
  },
  {
   "source": [
    "## Tensores inicializados"
   ],
   "cell_type": "markdown",
   "metadata": {}
  },
  {
   "cell_type": "code",
   "execution_count": 27,
   "metadata": {},
   "outputs": [
    {
     "output_type": "stream",
     "name": "stdout",
     "text": [
      "tensor([[1., 1., 1.],\n        [1., 1., 1.]])\ntensor([[0., 0., 0., 0., 0.],\n        [0., 0., 0., 0., 0.],\n        [0., 0., 0., 0., 0.],\n        [0., 0., 0., 0., 0.]])\ntensor([[ 0.2867, -0.1439,  0.7945],\n        [ 0.0738,  0.7440,  1.2407],\n        [-0.0859, -0.8902,  0.6308]])\n"
     ]
    }
   ],
   "source": [
    "tns1 = torch.ones(2, 3)\n",
    "tns2 = torch.zeros(4, 5)\n",
    "tns3 = torch.randn(3, 3)\n",
    "\n",
    "print(tns1)\n",
    "print(tns2)\n",
    "print(tns3)\n"
   ]
  },
  {
   "source": [
    "## Tensor -> array numpy"
   ],
   "cell_type": "markdown",
   "metadata": {}
  },
  {
   "cell_type": "code",
   "execution_count": 28,
   "metadata": {},
   "outputs": [
    {
     "output_type": "stream",
     "name": "stdout",
     "text": [
      "[[ 0.2867263  -0.1439285   0.7945427 ]\n [ 0.07381617  0.7439583   1.2406746 ]\n [-0.08593495 -0.89021087  0.63082963]]\n"
     ]
    }
   ],
   "source": [
    "arr = tns3.data.numpy()\n",
    "\n",
    "print(arr)"
   ]
  },
  {
   "source": [
    "##  Indexação"
   ],
   "cell_type": "markdown",
   "metadata": {}
  },
  {
   "cell_type": "code",
   "execution_count": 31,
   "metadata": {},
   "outputs": [
    {
     "output_type": "stream",
     "name": "stdout",
     "text": [
      "tensor([[  0.2867,  -0.1439, -10.0000],\n        [  0.0738,   0.7440,   1.2407],\n        [ -0.0859,  -0.8902,   0.6308]]) \n\ntensor([[  0.2867,  -0.1439, -10.0000],\n        [  0.0738,   0.7440,   1.2407],\n        [ -0.0859,  -0.8902,   0.6308]]) \n\ntensor([[  0.2867,  -0.1439, -10.0000],\n        [  0.0738,   0.7440,   1.2407]])\n"
     ]
    }
   ],
   "source": [
    "print(tns3, '\\n')\n",
    "\n",
    "tns3[0,2] = -10\n",
    "print(tns3, '\\n')\n",
    "\n",
    "print(tns3[:2])"
   ]
  },
  {
   "source": [
    "## Operaçoes com tensores\n",
    "\n",
    "As operações com tensores são realizadas de ponto a ponto, ou seja, o elemento (i ,j) do tensor1 sera operado com o elemnto (i, j) do tensor 2"
   ],
   "cell_type": "markdown",
   "metadata": {}
  },
  {
   "cell_type": "code",
   "execution_count": 42,
   "metadata": {},
   "outputs": [
    {
     "output_type": "stream",
     "name": "stdout",
     "text": [
      "tensor([[  0.2867,  -0.1439, -10.0000],\n        [  0.0738,   0.7440,   1.2407]])\ntensor([[1., 1., 1.],\n        [1., 1., 1.]])\ntensor([[ 1.2867,  0.8561, -9.0000],\n        [ 1.0738,  1.7440,  2.2407]])\ntensor([[  0.2867,  -0.1439, -10.0000],\n        [  0.0738,   0.7440,   1.2407]])\ntensor([[  0.2867,  -0.1439, -10.0000],\n        [  0.0738,   0.7440,   1.2407]])\ntensor([[-9.8572, -9.8572],\n        [ 2.0584,  2.0584]])\n"
     ]
    }
   ],
   "source": [
    "tns = tns3[:2, :]\n",
    "print(tns)\n",
    "print(tns1)\n",
    "\n",
    "print(tns + tns1)\n",
    "print(tns * tns1)\n",
    "print(tns / tns1)\n",
    "\n",
    "# Multiplicação de matrizer\n",
    "print(torch.mm(tns, tns1.T))"
   ]
  },
  {
   "source": [
    "## Funçao .size() e .view()\n",
    "Utilizadas para visualizar a dimensão dos tensores"
   ],
   "cell_type": "markdown",
   "metadata": {}
  },
  {
   "cell_type": "code",
   "execution_count": 56,
   "metadata": {},
   "outputs": [
    {
     "output_type": "stream",
     "name": "stdout",
     "text": [
      "tensor([[[-0.2861,  0.5498,  0.4420],\n         [-0.4252,  0.8089,  1.2333]],\n\n        [[ 0.3693, -1.4883,  0.7112],\n         [ 0.0256, -1.1176,  1.1180]]])\n\ntorch.Size([2, 2, 3])\n\ntensor([-0.2861,  0.5498,  0.4420, -0.4252,  0.8089,  1.2333,  0.3693, -1.4883,\n         0.7112,  0.0256, -1.1176,  1.1180])\n\ntensor([[-0.2861,  0.5498,  0.4420],\n        [-0.4252,  0.8089,  1.2333],\n        [ 0.3693, -1.4883,  0.7112],\n        [ 0.0256, -1.1176,  1.1180]])\n\ntensor([[[-0.2861,  0.5498,  0.4420],\n         [-0.4252,  0.8089,  1.2333]],\n\n        [[ 0.3693, -1.4883,  0.7112],\n         [ 0.0256, -1.1176,  1.1180]]])\n"
     ]
    }
   ],
   "source": [
    "tns = torch.randn(2,2,3)\n",
    "print(tns)\n",
    "print('')\n",
    "\n",
    "print(tns.size())\n",
    "print('')\n",
    "print(tns.view(-1))\n",
    "print('')\n",
    "print(tns.view(4, 3))\n",
    "print('')\n",
    "print(tns.view(tns.size(), -1))\n"
   ]
  },
  {
   "source": [
    "# GPU Cast\n",
    "É importante definir o dispositivo no inicio do código de acordo com a verificação apresentada a seguir. Esse definição será utilizada toda vez que precisarmos subir valores na GPU, como pesos de rede, gradientes, etc."
   ],
   "cell_type": "markdown",
   "metadata": {}
  },
  {
   "cell_type": "code",
   "execution_count": 59,
   "metadata": {},
   "outputs": [
    {
     "output_type": "stream",
     "name": "stdout",
     "text": [
      "cuda\ntensor([[[-0.2861,  0.5498,  0.4420],\n         [-0.4252,  0.8089,  1.2333]],\n\n        [[ 0.3693, -1.4883,  0.7112],\n         [ 0.0256, -1.1176,  1.1180]]], device='cuda:0')\n"
     ]
    }
   ],
   "source": [
    "if torch.cuda.is_available():\n",
    "    device = torch.device('cuda')\n",
    "else:\n",
    "    device =torch.device('cpu')\n",
    "print(device)\n",
    "\n",
    "tns = tns.to(device)\n",
    "print(tns)"
   ]
  },
  {
   "cell_type": "code",
   "execution_count": null,
   "metadata": {},
   "outputs": [],
   "source": []
  }
 ]
}