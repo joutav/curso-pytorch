{
  "nbformat": 4,
  "nbformat_minor": 0,
  "metadata": {
    "colab": {
      "name": "Funções de Perda.ipynb",
      "provenance": []
    },
    "kernelspec": {
      "name": "python3",
      "display_name": "Python 3.8.7 64-bit ('venv')",
      "metadata": {
        "interpreter": {
          "hash": "15ab2e7cb1012ba9cbf02156fa5f3e163f58cdb362476770d336dfa3da328700"
        }
      }
    },
    "accelerator": "GPU"
  },
  "cells": [
    {
      "cell_type": "markdown",
      "metadata": {
        "id": "91OmaEPyU934",
        "colab_type": "text"
      },
      "source": [
        "# Funções de Perda"
      ]
    },
    {
      "cell_type": "markdown",
      "metadata": {
        "id": "MELVfk5jU_7_",
        "colab_type": "text"
      },
      "source": [
        "O módulo ```nn``` e suas 1001 utilidades, também fornece as implementações das principais funções de perda. Então vamos primeiro importar o ```torch``` e o módulo ```nn``` <br>"
      ]
    },
    {
      "cell_type": "code",
      "metadata": {
        "id": "HiJE9dQOJnpY",
        "colab_type": "code",
        "colab": {}
      },
      "source": [
        "import torch\n",
        "from torch import nn"
      ],
      "execution_count": 1,
      "outputs": []
    },
    {
      "cell_type": "markdown",
      "metadata": {
        "id": "MwDcFjfubok8",
        "colab_type": "text"
      },
      "source": [
        "Antes de tudo, vamos conferir qual dispositivo de hardware está disponível para uso."
      ]
    },
    {
      "cell_type": "code",
      "metadata": {
        "id": "YFD6bwi7boNM",
        "colab_type": "code",
        "outputId": "5d2ad9d3-d7ea-45c6-d613-6bc18b4bedcd",
        "colab": {
          "base_uri": "https://localhost:8080/",
          "height": 36
        }
      },
      "source": [
        "if torch.cuda.is_available():\n",
        "  device = torch.device('cuda')\n",
        "else:\n",
        "  device = torch.device('cpu')\n",
        "\n",
        "print(device)"
      ],
      "execution_count": 2,
      "outputs": [
        {
          "output_type": "stream",
          "name": "stdout",
          "text": [
            "cuda\n"
          ]
        }
      ]
    },
    {
      "cell_type": "markdown",
      "metadata": {
        "id": "139Z-qFgQUiH",
        "colab_type": "text"
      },
      "source": [
        "Vamos trabalhar com o dataset de classificação de vinhos.\n",
        "\n",
        "https://scikit-learn.org/stable/modules/generated/sklearn.datasets.load_wine.html\n"
      ]
    },
    {
      "cell_type": "code",
      "metadata": {
        "id": "gvJEZr8BQIgG",
        "colab_type": "code",
        "colab": {}
      },
      "source": [
        "from sklearn import datasets\n",
        "\n",
        "wine =  datasets.load_wine()\n",
        "data = wine.data\n",
        "target = wine.target\n",
        "\n",
        "print(data.shape, target.shape)\n",
        "print(wine.feature_names, wine.target_names)\n"
      ],
      "execution_count": 4,
      "outputs": [
        {
          "output_type": "stream",
          "name": "stdout",
          "text": [
            "(178, 13) (178,)\n['alcohol', 'malic_acid', 'ash', 'alcalinity_of_ash', 'magnesium', 'total_phenols', 'flavanoids', 'nonflavanoid_phenols', 'proanthocyanins', 'color_intensity', 'hue', 'od280/od315_of_diluted_wines', 'proline'] ['class_0' 'class_1' 'class_2']\n"
          ]
        }
      ]
    },
    {
      "cell_type": "markdown",
      "metadata": {
        "id": "iRSDsjmqVTB2",
        "colab_type": "text"
      },
      "source": [
        "\n",
        "Vamos instanciar um MLP com uma camada escondida e uma camada de saída. <br>"
      ]
    },
    {
      "cell_type": "code",
      "metadata": {
        "id": "HVXMwEEjVTa3",
        "colab_type": "code",
        "colab": {}
      },
      "source": [
        "class WineClassifier(nn.Module):\n",
        "    def __init__(self, input_size, hidden_size, out_size):\n",
        "        super(WineClassifier, self).__init__()\n",
        "\n",
        "        self.hidden = nn.Linear(input_size, hidden_size)\n",
        "        self.relu = nn.ReLU()\n",
        "        self.out = nn.Linear(hidden_size, out_size)\n",
        "        self.softmax = nn.Softmax()\n",
        "\n",
        "    def forward(self, x):\n",
        "        feature = self.relu(self.hidden(x))\n",
        "        output = self.softmax(self.out(feature))\n",
        "        return output\n",
        "\n",
        "input_size = data.shape[1]\n",
        "hidden_size = 32\n",
        "out_size = len(wine.target_names)\n",
        "\n",
        "net = WineClassifier(input_size, hidden_size, out_size).to(device)"
      ],
      "execution_count": 6,
      "outputs": []
    },
    {
      "cell_type": "code",
      "metadata": {
        "id": "ENamhT6UVZrY",
        "colab_type": "code",
        "colab": {}
      },
      "source": [
        "print(net)"
      ],
      "execution_count": 7,
      "outputs": [
        {
          "output_type": "stream",
          "name": "stdout",
          "text": [
            "WineClassifier(\n  (hidden): Linear(in_features=13, out_features=32, bias=True)\n  (relu): ReLU()\n  (out): Linear(in_features=32, out_features=3, bias=True)\n  (softmax): Softmax(dim=None)\n)\n"
          ]
        }
      ]
    },
    {
      "cell_type": "markdown",
      "metadata": {
        "id": "Wzm3ruHeWhKR",
        "colab_type": "text"
      },
      "source": [
        "## Classificação\n",
        "\n",
        "O primeiro passo é instanciar a função de perda de sua escolha. Trata-se de um problema de classificação com 3 classes, nesse caso a Cross Entropy é a função recomendada, que no PyTorch recebe o nome de *CrossEntropyLoss*: https://pytorch.org/docs/stable/nn.html#crossentropyloss \n",
        "\n",
        "**Assim como a rede, as entradas e os rótulos, a função de perda também deve ser carregada na GPU**\n"
      ]
    },
    {
      "cell_type": "code",
      "metadata": {
        "id": "ZWSHXeO-WbQh",
        "colab_type": "code",
        "colab": {}
      },
      "source": [
        "criterion = nn.CrossEntropyLoss().to(device)"
      ],
      "execution_count": 8,
      "outputs": []
    },
    {
      "cell_type": "markdown",
      "metadata": {
        "id": "fj9l470ZXMuF",
        "colab_type": "text"
      },
      "source": [
        "Antes de aplicar a função de perda, vamos fazer o cast dos dados para tensores e extrair as predições ```y'``` da rede."
      ]
    },
    {
      "cell_type": "code",
      "metadata": {
        "id": "mgYO7UfjXNB9",
        "colab_type": "code",
        "colab": {}
      },
      "source": [
        "x_tensor = torch.from_numpy(data).float().to(device)\n",
        "y_tensor = torch.from_numpy(target).long().to(device)\n",
        "\n",
        "print(x_tensor.dtype, y_tensor.dtype)"
      ],
      "execution_count": 17,
      "outputs": [
        {
          "output_type": "stream",
          "name": "stdout",
          "text": [
            "torch.float32 torch.int64\n"
          ]
        }
      ]
    },
    {
      "cell_type": "code",
      "metadata": {
        "id": "q6OLd3MPZ42o",
        "colab_type": "code",
        "colab": {}
      },
      "source": [
        "predicao = net(x_tensor)\n",
        "\n",
        "# Para cada item tem-se 3 possiveis probabilidades\n",
        "print(predicao.shape)"
      ],
      "execution_count": 14,
      "outputs": [
        {
          "output_type": "stream",
          "name": "stdout",
          "text": [
            "torch.Size([178, 3])\n"
          ]
        }
      ]
    },
    {
      "cell_type": "markdown",
      "metadata": {
        "id": "Fxt1i_ibaTqT",
        "colab_type": "text"
      },
      "source": [
        "Confira as dimensões de ```y``` e ```y'```. Enquanto as predições estão em termos de probabilidades, os rótulos de classificação devem são valores inteiros referentes aos índices das classes."
      ]
    },
    {
      "cell_type": "code",
      "metadata": {
        "id": "3-FZ8Fe5aMZC",
        "colab_type": "code",
        "colab": {}
      },
      "source": [
        "print(predicao.shape, y_tensor.shape)"
      ],
      "execution_count": 15,
      "outputs": [
        {
          "output_type": "stream",
          "name": "stdout",
          "text": [
            "torch.Size([178, 3]) torch.Size([178])\n"
          ]
        }
      ]
    },
    {
      "cell_type": "markdown",
      "metadata": {
        "id": "b6RQRX0ZYXtH",
        "colab_type": "text"
      },
      "source": [
        "As funções de perda implementadas no PyTorch esperam o seguinte padrão de chamada:\n",
        "\n",
        "```python\n",
        "loss = criterion(prediction, target)\n",
        "```\n",
        "\n",
        "Vale lembrar que cada função de perda possui especificidades quanto às dimensões dos seus parâmetros. Para a Cross Entropy:\n",
        "* prediction: ```(N, C)```\n",
        "* target: ```(N,)```"
      ]
    },
    {
      "cell_type": "code",
      "metadata": {
        "id": "uo-xj2_na6fT",
        "colab_type": "code",
        "colab": {}
      },
      "source": [
        "loss = criterion(predicao, y_tensor)\n",
        "print(loss)"
      ],
      "execution_count": 20,
      "outputs": [
        {
          "output_type": "stream",
          "name": "stdout",
          "text": [
            "tensor(1.2818, device='cuda:0', grad_fn=<NllLossBackward>)\n"
          ]
        }
      ]
    },
    {
      "cell_type": "markdown",
      "metadata": {
        "id": "qniVROKSc4RW",
        "colab_type": "text"
      },
      "source": [
        "## Regressão\n"
      ]
    },
    {
      "cell_type": "markdown",
      "metadata": {
        "id": "1LyOLrztc2cQ",
        "colab_type": "text"
      },
      "source": [
        "Vamos trabalhar com o dataset de Diabetes, cujo objetivo é prever a progressão da diabetes em um paciente.\n",
        "\n",
        "https://scikit-learn.org/stable/datasets/index.html#diabetes-dataset"
      ]
    },
    {
      "cell_type": "code",
      "metadata": {
        "id": "X_vTwg_fc24l",
        "colab_type": "code",
        "outputId": "4c766018-f632-41fc-de8b-b38d8af8433c",
        "colab": {
          "base_uri": "https://localhost:8080/",
          "height": 111
        }
      },
      "source": [
        "diabetes = datasets.load_diabetes()\n",
        "data = diabetes.data\n",
        "target = diabetes.target\n",
        "\n",
        "print(data.shape, target.shape)\n",
        "print(data[0])\n",
        "print(target[0])\n"
      ],
      "execution_count": 26,
      "outputs": [
        {
          "output_type": "stream",
          "name": "stdout",
          "text": [
            "(442, 10) (442,)\n[ 0.03807591  0.05068012  0.06169621  0.02187235 -0.0442235  -0.03482076\n -0.04340085 -0.00259226  0.01990842 -0.01764613]\n151.0\n"
          ]
        }
      ]
    },
    {
      "cell_type": "markdown",
      "metadata": {
        "id": "dC3OaC5VdXng",
        "colab_type": "text"
      },
      "source": [
        "Implementando o MLP"
      ]
    },
    {
      "cell_type": "code",
      "metadata": {
        "id": "rGKUNv31dXC8",
        "colab_type": "code",
        "colab": {}
      },
      "source": [
        "class DiabetesRegression(nn.Module):\n",
        "    def __init__(self, input_size, hidden_size, out_size):\n",
        "        super(DiabetesRegression, self).__init__()\n",
        "\n",
        "        self.hidden = nn.Linear(input_size, hidden_size)\n",
        "        self.relu = nn.ReLU()\n",
        "        self.out = nn.Linear(hidden_size, out_size)\n",
        "        self.softmax = nn.Softmax()\n",
        "\n",
        "    def forward(self, x):\n",
        "        feature = self.relu(self.hidden(x))\n",
        "        output = self.softmax(self.out(feature))\n",
        "        return output\n",
        "\n",
        "input_size = data.shape[1]\n",
        "hidden_size = 32\n",
        "out_size = 1\n",
        "\n",
        "net = DiabetesRegression(input_size, hidden_size, out_size).to(device)"
      ],
      "execution_count": 28,
      "outputs": []
    },
    {
      "cell_type": "markdown",
      "metadata": {
        "id": "PRrZkE19c15k",
        "colab_type": "text"
      },
      "source": [
        "Para solucionar problemas de regressão, as funções de perda correspondentes esperam que ambos o rótulo e a predição tenham **a mesma dimensionalidade**. Não se trata mais de um problema categórico.\n",
        "\n",
        "Portanto, vamos simular um problema de regressão e aplicar a *MSELoss*<br>\n",
        "Documentação: https://pytorch.org/docs/stable/nn.html#mseloss"
      ]
    },
    {
      "cell_type": "code",
      "metadata": {
        "id": "Jzu7ZxbdcRsu",
        "colab_type": "code",
        "outputId": "c79913b9-919b-43c8-ce0d-5ca73d5de9be",
        "colab": {
          "base_uri": "https://localhost:8080/",
          "height": 36
        }
      },
      "source": [
        "criterion = nn.MSELoss().to(device)\n",
        "\n",
        "x_tensor = torch.from_numpy(data).float().to(device)\n",
        "y_tensor = torch.from_numpy(target).float().to(device)\n",
        "\n",
        "print(x_tensor.shape, y_tensor.shape)\n"
      ],
      "execution_count": 31,
      "outputs": [
        {
          "output_type": "stream",
          "name": "stdout",
          "text": [
            "torch.Size([442, 10]) torch.Size([442])\n"
          ]
        }
      ]
    },
    {
      "cell_type": "code",
      "metadata": {
        "id": "ltlmEeIDeAzC",
        "colab_type": "code",
        "outputId": "50a6f7bf-94c7-4095-e79c-b1584502c38b",
        "colab": {
          "base_uri": "https://localhost:8080/",
          "height": 36
        }
      },
      "source": [
        "predicao = net(x_tensor)\n",
        "print(predicao.shape)\n",
        "\n",
        "loss = criterion(predicao.squeeze(),y_tensor)\n",
        "print(loss)"
      ],
      "execution_count": 36,
      "outputs": [
        {
          "output_type": "stream",
          "name": "stdout",
          "text": [
            "torch.Size([442, 1])\ntensor(28771.2168, device='cuda:0', grad_fn=<MseLossBackward>)\n"
          ]
        }
      ]
    },
    {
      "cell_type": "code",
      "metadata": {
        "id": "qxc79Z9-QTuY",
        "colab_type": "code",
        "outputId": "75d1d4b3-6c72-49bc-fc7c-ddd506aa4e8d",
        "colab": {
          "base_uri": "https://localhost:8080/",
          "height": 36
        }
      },
      "source": [],
      "execution_count": 0,
      "outputs": [
        {
          "output_type": "stream",
          "text": [
            "tensor(151.1335, device='cuda:0')\n"
          ],
          "name": "stdout"
        }
      ]
    },
    {
      "cell_type": "markdown",
      "metadata": {
        "id": "g92P_wBNgyb-",
        "colab_type": "text"
      },
      "source": [
        "## Documentação\n",
        "Veja a documentação para consultar a lista de todas as funções de perda implementadas no PyTorch: <br>\n",
        "https://pytorch.org/docs/stable/nn.html#loss-functions"
      ]
    }
  ]
}